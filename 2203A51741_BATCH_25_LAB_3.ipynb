{
  "nbformat": 4,
  "nbformat_minor": 0,
  "metadata": {
    "colab": {
      "provenance": [],
      "include_colab_link": true
    },
    "kernelspec": {
      "name": "python3",
      "display_name": "Python 3"
    },
    "language_info": {
      "name": "python"
    }
  },
  "cells": [
    {
      "cell_type": "markdown",
      "metadata": {
        "id": "view-in-github",
        "colab_type": "text"
      },
      "source": [
        "<a href=\"https://colab.research.google.com/github/Aashish2707/IRS/blob/main/2203A51741_BATCH_25_LAB_3.ipynb\" target=\"_parent\"><img src=\"https://colab.research.google.com/assets/colab-badge.svg\" alt=\"Open In Colab\"/></a>"
      ]
    },
    {
      "cell_type": "code",
      "source": [
        "documents = [\"AMAZON REVIEW RETRIEVAL SYSTEM\"]\n",
        "\n",
        "from sklearn.feature_extraction.text import CountVectorizer\n",
        "\n",
        "\n",
        "vectorizer = CountVectorizer()\n",
        "\n",
        "\n",
        "X = vectorizer.fit_transform(documents)\n",
        "\n",
        "\n",
        "bow_array = X.toarray()\n",
        "\n",
        "print(\"Vocabulary:\\n\", vectorizer.get_feature_names_out())\n",
        "print(\"Bag-of-Words Representation:\\n\", bow_array)\n",
        "import pandas as pd\n",
        "\n",
        "\n",
        "df = pd.DataFrame(bow_array, columns=vectorizer.get_feature_names_out())\n",
        "\n",
        "print(df)\n",
        "\n",
        "\n",
        "\n",
        "\n",
        "\n",
        "\n",
        "\n"
      ],
      "metadata": {
        "colab": {
          "base_uri": "https://localhost:8080/"
        },
        "id": "7dREQ98fFVuC",
        "outputId": "7b402c9e-c5bf-4265-9010-e1b3e675cee4"
      },
      "execution_count": 1,
      "outputs": [
        {
          "output_type": "stream",
          "name": "stdout",
          "text": [
            "Vocabulary:\n",
            " ['amazon' 'retrieval' 'review' 'system']\n",
            "Bag-of-Words Representation:\n",
            " [[1 1 1 1]]\n",
            "   amazon  retrieval  review  system\n",
            "0       1          1       1       1\n"
          ]
        }
      ]
    }
  ]
}