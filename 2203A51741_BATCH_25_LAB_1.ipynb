{
  "nbformat": 4,
  "nbformat_minor": 0,
  "metadata": {
    "colab": {
      "provenance": [],
      "include_colab_link": true
    },
    "kernelspec": {
      "name": "python3",
      "display_name": "Python 3"
    },
    "language_info": {
      "name": "python"
    }
  },
  "cells": [
    {
      "cell_type": "markdown",
      "metadata": {
        "id": "view-in-github",
        "colab_type": "text"
      },
      "source": [
        "<a href=\"https://colab.research.google.com/github/Aashish2707/IRS/blob/main/2203A51741_BATCH_25_LAB_1.ipynb\" target=\"_parent\"><img src=\"https://colab.research.google.com/assets/colab-badge.svg\" alt=\"Open In Colab\"/></a>"
      ]
    },
    {
      "cell_type": "code",
      "source": [
        "import pandas as pd\n",
        "import nltk\n",
        "nltk.download('punkt_tab')\n",
        "from nltk.corpus import stopwords\n",
        "from nltk.tokenize import word_tokenize, sent_tokenize\n",
        "import string\n",
        "\n",
        "# Download necessary NLTK data files\n",
        "nltk.download('punkt')\n",
        "nltk.download('stopwords')\n",
        "\n",
        "# Sample text\n",
        "sample_text = \"\"\" AMAZON REVEIW RETRIEVAL SYSTEM \"\"\"\n",
        "# Lowercase the text\n",
        "sample_text = sample_text.lower()\n",
        "# Remove punctuation\n",
        "sample_text = sample_text.translate(str.maketrans('', '', string.punctuation))\n",
        "# Eliminate stopwords\n",
        "stop_words = set(stopwords.words('english'))\n",
        "words = word_tokenize(sample_text)\n",
        "filtered_words = [word for word in words if word not in stop_words]\n",
        "# Tokenize sentences and words\n",
        "sentences = sent_tokenize(sample_text)\n",
        "words = word_tokenize(sample_text)\n",
        "# Output the cleaned and preprocessed text\n",
        "print(\"Lowercased Text: \\n\", sample_text)\n",
        "print(\"\\nText without Punctuation: \\n\", sample_text)\n",
        "print(\"\\nText without Stopwords: \\n\", ' '.join(filtered_words))\n",
        "print(\"\\nTokenized Sentences: \\n\", sentences)\n",
        "print(\"\\nTokenized Words: \\n\", words)"
      ],
      "metadata": {
        "colab": {
          "base_uri": "https://localhost:8080/"
        },
        "id": "ansRDM0RJhs0",
        "outputId": "52f3312a-0dc8-41bc-c92b-eb5000d127f4"
      },
      "execution_count": null,
      "outputs": [
        {
          "output_type": "stream",
          "name": "stderr",
          "text": [
            "[nltk_data] Downloading package punkt_tab to /root/nltk_data...\n",
            "[nltk_data]   Unzipping tokenizers/punkt_tab.zip.\n",
            "[nltk_data] Downloading package punkt to /root/nltk_data...\n",
            "[nltk_data]   Unzipping tokenizers/punkt.zip.\n"
          ]
        },
        {
          "output_type": "stream",
          "name": "stdout",
          "text": [
            "Lowercased Text: \n",
            "  amazon reveiw retrieval system \n",
            "\n",
            "Text without Punctuation: \n",
            "  amazon reveiw retrieval system \n",
            "\n",
            "Text without Stopwords: \n",
            " amazon reveiw retrieval system\n",
            "\n",
            "Tokenized Sentences: \n",
            " [' amazon reveiw retrieval system']\n",
            "\n",
            "Tokenized Words: \n",
            " ['amazon', 'reveiw', 'retrieval', 'system']\n"
          ]
        },
        {
          "output_type": "stream",
          "name": "stderr",
          "text": [
            "[nltk_data] Downloading package stopwords to /root/nltk_data...\n",
            "[nltk_data]   Unzipping corpora/stopwords.zip.\n"
          ]
        }
      ]
    }
  ]
}